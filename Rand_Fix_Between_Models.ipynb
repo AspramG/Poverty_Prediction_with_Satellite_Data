{
 "cells": [
  {
   "cell_type": "code",
   "execution_count": 5,
   "metadata": {},
   "outputs": [
    {
     "name": "stdout",
     "output_type": "stream",
     "text": [
      "Requirement already satisfied: linearmodels in /Applications/anaconda3/lib/python3.7/site-packages (4.17)\n",
      "Requirement already satisfied: numpy>=1.15 in /Applications/anaconda3/lib/python3.7/site-packages (from linearmodels) (1.17.2)\n",
      "Requirement already satisfied: property-cached>=1.6.3 in /Applications/anaconda3/lib/python3.7/site-packages (from linearmodels) (1.6.4)\n",
      "Requirement already satisfied: Cython>=0.29.14 in /Applications/anaconda3/lib/python3.7/site-packages (from linearmodels) (0.29.16)\n",
      "Requirement already satisfied: scipy>=1 in /Applications/anaconda3/lib/python3.7/site-packages (from linearmodels) (1.3.1)\n",
      "Requirement already satisfied: mypy-extensions>=0.4 in /Applications/anaconda3/lib/python3.7/site-packages (from linearmodels) (0.4.3)\n",
      "Requirement already satisfied: patsy in /Applications/anaconda3/lib/python3.7/site-packages (from linearmodels) (0.5.1)\n",
      "Requirement already satisfied: statsmodels>=0.9 in /Applications/anaconda3/lib/python3.7/site-packages (from linearmodels) (0.10.1)\n",
      "Requirement already satisfied: pandas>=0.23 in /Applications/anaconda3/lib/python3.7/site-packages (from linearmodels) (0.25.1)\n",
      "Requirement already satisfied: six in /Applications/anaconda3/lib/python3.7/site-packages (from patsy->linearmodels) (1.12.0)\n",
      "Requirement already satisfied: pytz>=2017.2 in /Applications/anaconda3/lib/python3.7/site-packages (from pandas>=0.23->linearmodels) (2019.3)\n",
      "Requirement already satisfied: python-dateutil>=2.6.1 in /Applications/anaconda3/lib/python3.7/site-packages (from pandas>=0.23->linearmodels) (2.8.0)\n"
     ]
    },
    {
     "ename": "ModuleNotFoundError",
     "evalue": "No module named 'linearmodels'",
     "output_type": "error",
     "traceback": [
      "\u001b[0;31m---------------------------------------------------------------------------\u001b[0m",
      "\u001b[0;31mModuleNotFoundError\u001b[0m                       Traceback (most recent call last)",
      "\u001b[0;32m<ipython-input-5-d4a5c9fa9797>\u001b[0m in \u001b[0;36m<module>\u001b[0;34m\u001b[0m\n\u001b[1;32m      3\u001b[0m \u001b[0;32mimport\u001b[0m \u001b[0mstatsmodels\u001b[0m\u001b[0;34m.\u001b[0m\u001b[0mapi\u001b[0m \u001b[0;32mas\u001b[0m \u001b[0msm\u001b[0m\u001b[0;34m\u001b[0m\u001b[0;34m\u001b[0m\u001b[0m\n\u001b[1;32m      4\u001b[0m \u001b[0mget_ipython\u001b[0m\u001b[0;34m(\u001b[0m\u001b[0;34m)\u001b[0m\u001b[0;34m.\u001b[0m\u001b[0msystem\u001b[0m\u001b[0;34m(\u001b[0m\u001b[0;34m'pip install linearmodels'\u001b[0m\u001b[0;34m)\u001b[0m\u001b[0;34m\u001b[0m\u001b[0;34m\u001b[0m\u001b[0m\n\u001b[0;32m----> 5\u001b[0;31m \u001b[0;32mfrom\u001b[0m \u001b[0mlinearmodels\u001b[0m \u001b[0;32mimport\u001b[0m \u001b[0mPanelOLS\u001b[0m\u001b[0;34m\u001b[0m\u001b[0;34m\u001b[0m\u001b[0m\n\u001b[0m\u001b[1;32m      6\u001b[0m \u001b[0;32mfrom\u001b[0m \u001b[0mlinearmodels\u001b[0m \u001b[0;32mimport\u001b[0m \u001b[0mRandomEffects\u001b[0m\u001b[0;34m\u001b[0m\u001b[0;34m\u001b[0m\u001b[0m\n\u001b[1;32m      7\u001b[0m \u001b[0;34m\u001b[0m\u001b[0m\n",
      "\u001b[0;31mModuleNotFoundError\u001b[0m: No module named 'linearmodels'"
     ]
    }
   ],
   "source": [
    "import numpy as np\n",
    "import pandas as pd\n",
    "import statsmodels.api as sm\n",
    "!pip install linearmodels\n",
    "from linearmodels import PanelOLS\n",
    "from linearmodels import RandomEffects\n",
    "\n",
    "import matplotlib.pyplot as plt #visualization\n",
    "import seaborn as sns #visualization\n",
    "\n",
    "\n",
    "from statsmodels.api import qqplot #for qq plot\n",
    "from statsmodels.stats.diagnostic import het_breuschpagan,linear_rainbow  #variance equality and linearity tests\n",
    "from scipy.stats import shapiro #for checking normality"
   ]
  },
  {
   "cell_type": "code",
   "execution_count": 2,
   "metadata": {},
   "outputs": [
    {
     "name": "stdout",
     "output_type": "stream",
     "text": [
      "Requirement already satisfied: linearmodels in /Applications/anaconda3/lib/python3.7/site-packages (4.17)\n",
      "Requirement already satisfied: pandas>=0.23 in /Applications/anaconda3/lib/python3.7/site-packages (from linearmodels) (0.25.1)\n",
      "Requirement already satisfied: mypy-extensions>=0.4 in /Applications/anaconda3/lib/python3.7/site-packages (from linearmodels) (0.4.3)\n",
      "Requirement already satisfied: property-cached>=1.6.3 in /Applications/anaconda3/lib/python3.7/site-packages (from linearmodels) (1.6.4)\n",
      "Requirement already satisfied: scipy>=1 in /Applications/anaconda3/lib/python3.7/site-packages (from linearmodels) (1.3.1)\n",
      "Requirement already satisfied: numpy>=1.15 in /Applications/anaconda3/lib/python3.7/site-packages (from linearmodels) (1.17.2)\n",
      "Requirement already satisfied: patsy in /Applications/anaconda3/lib/python3.7/site-packages (from linearmodels) (0.5.1)\n",
      "Requirement already satisfied: Cython>=0.29.14 in /Applications/anaconda3/lib/python3.7/site-packages (from linearmodels) (0.29.16)\n",
      "Requirement already satisfied: statsmodels>=0.9 in /Applications/anaconda3/lib/python3.7/site-packages (from linearmodels) (0.10.1)\n",
      "Requirement already satisfied: python-dateutil>=2.6.1 in /Applications/anaconda3/lib/python3.7/site-packages (from pandas>=0.23->linearmodels) (2.8.0)\n",
      "Requirement already satisfied: pytz>=2017.2 in /Applications/anaconda3/lib/python3.7/site-packages (from pandas>=0.23->linearmodels) (2019.3)\n",
      "Requirement already satisfied: six in /Applications/anaconda3/lib/python3.7/site-packages (from patsy->linearmodels) (1.12.0)\n"
     ]
    }
   ],
   "source": [
    "!pip install linearmodels"
   ]
  },
  {
   "cell_type": "code",
   "execution_count": 3,
   "metadata": {},
   "outputs": [
    {
     "ename": "ModuleNotFoundError",
     "evalue": "No module named 'linearmodels'",
     "output_type": "error",
     "traceback": [
      "\u001b[0;31m---------------------------------------------------------------------------\u001b[0m",
      "\u001b[0;31mModuleNotFoundError\u001b[0m                       Traceback (most recent call last)",
      "\u001b[0;32m<ipython-input-3-6de63ba6aa3f>\u001b[0m in \u001b[0;36m<module>\u001b[0;34m\u001b[0m\n\u001b[0;32m----> 1\u001b[0;31m \u001b[0;32mfrom\u001b[0m \u001b[0mlinearmodels\u001b[0m \u001b[0;32mimport\u001b[0m \u001b[0mPanelOLS\u001b[0m\u001b[0;34m\u001b[0m\u001b[0;34m\u001b[0m\u001b[0m\n\u001b[0m",
      "\u001b[0;31mModuleNotFoundError\u001b[0m: No module named 'linearmodels'"
     ]
    }
   ],
   "source": [
    "from linearmodels import PanelOLS"
   ]
  },
  {
   "cell_type": "code",
   "execution_count": 4,
   "metadata": {},
   "outputs": [
    {
     "name": "stdout",
     "output_type": "stream",
     "text": [
      "Collecting package metadata (current_repodata.json): done\n",
      "Solving environment: failed with initial frozen solve. Retrying with flexible solve.\n",
      "Collecting package metadata (repodata.json): done\n",
      "Solving environment: failed with initial frozen solve. Retrying with flexible solve.\n",
      "\n",
      "PackagesNotFoundError: The following packages are not available from current channels:\n",
      "\n",
      "  - linearmodels\n",
      "\n",
      "Current channels:\n",
      "\n",
      "  - https://repo.anaconda.com/pkgs/main/osx-64\n",
      "  - https://repo.anaconda.com/pkgs/main/noarch\n",
      "  - https://repo.anaconda.com/pkgs/r/osx-64\n",
      "  - https://repo.anaconda.com/pkgs/r/noarch\n",
      "\n",
      "To search for alternate channels that may provide the conda package you're\n",
      "looking for, navigate to\n",
      "\n",
      "    https://anaconda.org\n",
      "\n",
      "and use the search bar at the top of the page.\n",
      "\n",
      "\n",
      "\n",
      "Note: you may need to restart the kernel to use updated packages.\n"
     ]
    }
   ],
   "source": [
    "conda install linearmodels\n"
   ]
  },
  {
   "cell_type": "code",
   "execution_count": null,
   "metadata": {},
   "outputs": [],
   "source": []
  },
  {
   "cell_type": "code",
   "execution_count": null,
   "metadata": {},
   "outputs": [],
   "source": [
    "data = pd.read_excel('data.xlsx')\n",
    "data.head()"
   ]
  },
  {
   "cell_type": "code",
   "execution_count": 103,
   "metadata": {},
   "outputs": [],
   "source": [
    "data = data.fillna(method='bfill')"
   ]
  },
  {
   "cell_type": "code",
   "execution_count": 104,
   "metadata": {},
   "outputs": [
    {
     "name": "stdout",
     "output_type": "stream",
     "text": [
      "<class 'pandas.core.frame.DataFrame'>\n",
      "RangeIndex: 110 entries, 0 to 109\n",
      "Data columns (total 19 columns):\n",
      "marzname                            110 non-null object\n",
      "marz                                110 non-null int64\n",
      "year                                110 non-null int64\n",
      "radianceoverpixels                  110 non-null float64\n",
      "summedradiance                      110 non-null float64\n",
      "population                          110 non-null float64\n",
      "radpop_scaled                       110 non-null float64\n",
      "average_expenditure                 110 non-null float64\n",
      "average_tot_income                  110 non-null float64\n",
      "consumption_per_adult_equivalent    110 non-null float64\n",
      "headyears_educated                  110 non-null float64\n",
      "construction_mln_amd                110 non-null float64\n",
      "hospital_visits_per_Capita          110 non-null float64\n",
      "illegal_acts                        110 non-null float64\n",
      "total_credit_debt                   110 non-null float64\n",
      "total_debitory_debt                 110 non-null float64\n",
      "passenger_turnover                  110 non-null float64\n",
      "cargo_turnover                      110 non-null float64\n",
      "total_debt                          110 non-null float64\n",
      "dtypes: float64(16), int64(2), object(1)\n",
      "memory usage: 16.5+ KB\n"
     ]
    }
   ],
   "source": [
    "data['total_debt']= data['total_credit_debt']+data['total_debitory_debt']\n",
    "data['illegal_acts']=data['illegal_acts']/data['population']\n",
    "data['passenger_turnover']=data['passenger_turnover']/data['population']\n",
    "data['passenger_turnover']=data['passenger_turnover']/data['population']\n",
    "data.info()\n"
   ]
  },
  {
   "cell_type": "code",
   "execution_count": 105,
   "metadata": {},
   "outputs": [],
   "source": [
    "data= data.drop(['total_credit_debt', 'total_debitory_debt', 'construction_mln_amd'], axis=1)\n"
   ]
  },
  {
   "cell_type": "code",
   "execution_count": 106,
   "metadata": {},
   "outputs": [
    {
     "name": "stdout",
     "output_type": "stream",
     "text": [
      "          marzname  radianceoverpixels  summedradiance  population  \\\n",
      "marz year                                                            \n",
      "1    2004  Armavir                 4.5          8469.5    256072.9   \n",
      "     2005  Armavir                 4.6          8662.0    256143.6   \n",
      "     2006  Armavir                 5.1          9764.5    256214.3   \n",
      "     2007  Armavir                 6.0         11499.5    256285.1   \n",
      "     2008  Armavir                 7.3         13914.0    256355.8   \n",
      "\n",
      "           radpop_scaled  average_expenditure  average_tot_income  \\\n",
      "marz year                                                           \n",
      "1    2004           33.1              67657.8             69964.1   \n",
      "     2005           33.8              64208.7             76897.8   \n",
      "     2006           38.1              75313.5             88649.5   \n",
      "     2007           44.9             101420.1             80827.9   \n",
      "     2008           54.3             108806.4            115331.6   \n",
      "\n",
      "           consumption_per_adult_equivalent  headyears_educated  \\\n",
      "marz year                                                         \n",
      "1    2004                           28084.7                 9.7   \n",
      "     2005                           29720.3                 9.0   \n",
      "     2006                           85878.3                 9.0   \n",
      "     2007                          119702.1                 9.7   \n",
      "     2008                          127624.6                 6.9   \n",
      "\n",
      "           hospital_visits_per_Capita  illegal_acts  passenger_turnover  \\\n",
      "marz year                                                                 \n",
      "1    2004                         1.9      0.002324        1.189508e-09   \n",
      "     2005                         1.9      0.002319        1.188851e-09   \n",
      "     2006                         2.3      0.002096        9.734062e-10   \n",
      "     2007                         2.5      0.001834        5.602748e-10   \n",
      "     2008                         2.7      0.001923        7.577798e-10   \n",
      "\n",
      "           cargo_turnover  total_debt  year  \n",
      "marz year                                    \n",
      "1    2004             4.1     14018.0  2004  \n",
      "     2005             4.1     14018.0  2005  \n",
      "     2006            14.8     14672.5  2006  \n",
      "     2007            20.1     13171.0  2007  \n",
      "     2008            20.2     18014.5  2008  \n"
     ]
    }
   ],
   "source": [
    "from linearmodels.panel import PanelOLS\n",
    "import statsmodels.api as sm\n",
    "\n",
    "year = pd.Categorical(data.year)\n",
    "data = data.set_index(['marz','year'])\n",
    "data['year'] = year\n",
    "print(data.head())\n",
    "\n"
   ]
  },
  {
   "cell_type": "markdown",
   "metadata": {},
   "source": [
    "## Basic Regression on Panel Data"
   ]
  },
  {
   "cell_type": "code",
   "execution_count": 107,
   "metadata": {},
   "outputs": [],
   "source": [
    "#PooledOLS is just plain OLS that understands that various panel data structures.\n",
    "#It is useful as a base model. \n",
    "#Here the log wage is modeled using all of the variables and time dummies."
   ]
  },
  {
   "cell_type": "code",
   "execution_count": 131,
   "metadata": {
    "scrolled": false
   },
   "outputs": [
    {
     "name": "stdout",
     "output_type": "stream",
     "text": [
      "                                 PooledOLS Estimation Summary                                 \n",
      "==============================================================================================\n",
      "Dep. Variable:     consumption_per_adult_equivalent   R-squared:                        0.9756\n",
      "Estimator:                                PooledOLS   R-squared (Between):              0.7811\n",
      "No. Observations:                               110   R-squared (Within):               0.9807\n",
      "Date:                              Sat, Apr 25 2020   R-squared (Overall):              0.9756\n",
      "Time:                                      12:02:16   Log-likelihood                    126.06\n",
      "Cov. Estimator:                          Unadjusted                                           \n",
      "                                                      F-statistic:                      232.32\n",
      "Entities:                                        11   P-value                           0.0000\n",
      "Avg Obs:                                    10.0000   Distribution:                   F(16,93)\n",
      "Min Obs:                                    10.0000                                           \n",
      "Max Obs:                                    10.0000   F-statistic (robust):             232.32\n",
      "                                                      P-value                           0.0000\n",
      "Time periods:                                    10   Distribution:                   F(16,93)\n",
      "Avg Obs:                                     11.000                                           \n",
      "Min Obs:                                     11.000                                           \n",
      "Max Obs:                                     11.000                                           \n",
      "                                                                                              \n",
      "                                     Parameter Estimates                                      \n",
      "==============================================================================================\n",
      "                            Parameter  Std. Err.     T-stat    P-value    Lower CI    Upper CI\n",
      "----------------------------------------------------------------------------------------------\n",
      "const                          10.058     0.2232     45.051     0.0000      9.6143      10.501\n",
      "radianceoverpixels             0.0133     0.0031     4.2305     0.0001      0.0071      0.0196\n",
      "summedradiance             -1.208e-05   4.28e-06    -2.8221     0.0058  -2.058e-05  -3.579e-06\n",
      "population                 -2.951e-07  1.705e-07    -1.7311     0.0867  -6.337e-07   4.341e-08\n",
      "radpop_scaled                  0.0017     0.0012     1.3441     0.1822     -0.0008      0.0041\n",
      "headyears_educated             0.0311     0.0240     1.2956     0.1983     -0.0166      0.0787\n",
      "hospital_visits_per_Capita    -0.0132     0.0146    -0.9027     0.3690     -0.0422      0.0158\n",
      "illegal_acts                  -14.925     13.544    -1.1019     0.2733     -41.821      11.971\n",
      "year.2005                      0.0686     0.0363     1.8879     0.0622     -0.0036      0.1408\n",
      "year.2006                      1.1075     0.0370     29.934     0.0000      1.0341      1.1810\n",
      "year.2007                      1.3753     0.0382     35.986     0.0000      1.2995      1.4512\n",
      "year.2008                      1.5455     0.0798     19.372     0.0000      1.3871      1.7039\n",
      "year.2009                      0.5171     0.0845     6.1207     0.0000      0.3493      0.6849\n",
      "year.2010                      0.5490     0.0902     6.0839     0.0000      0.3698      0.7282\n",
      "year.2011                      0.6362     0.0900     7.0667     0.0000      0.4574      0.8149\n",
      "year.2012                      0.7989     0.0957     8.3499     0.0000      0.6089      0.9889\n",
      "year.2013                      0.8744     0.0937     9.3331     0.0000      0.6884      1.0605\n",
      "==============================================================================================\n"
     ]
    }
   ],
   "source": [
    "\n",
    "from linearmodels.panel import PooledOLS\n",
    "import statsmodels.api as sm\n",
    "exog_vars = ['radianceoverpixels', 'summedradiance', 'population', 'radpop_scaled', 'headyears_educated', 'hospital_visits_per_Capita', 'illegal_acts', 'year']\n",
    "exog = sm.add_constant(data[exog_vars])\n",
    "mod = PooledOLS(np.log(data.consumption_per_adult_equivalent), exog)\n",
    "pooled_res = mod.fit()\n",
    "print(pooled_res)"
   ]
  },
  {
   "cell_type": "markdown",
   "metadata": {},
   "source": [
    "## Random Effects Model"
   ]
  },
  {
   "cell_type": "code",
   "execution_count": 109,
   "metadata": {},
   "outputs": [],
   "source": [
    "#When modeling panel data it is common to consider models beyond what OLS will efficiently estimate. \n",
    "#The most common are error component models which add an additional term to the standard OLS model,\n",
    "# y(it)=x(it)β+α(i)+ϵ(it)\n",
    "#where α(i) affects all values of entity i. When the α(i) are uncorrelated with the regressors in x(it), \n",
    "#a random effects model can be used to efficiently estimate parameters of this model."
   ]
  },
  {
   "cell_type": "code",
   "execution_count": 110,
   "metadata": {},
   "outputs": [],
   "source": [
    "#The random effects model is virtually identical to the pooled OLS model except\n",
    "#that is accounts for the structure of the model and so is more efficient. \n",
    "#Random effects uses a quasi-demeaning strategy which subtracts the time average \n",
    "#fo the within entity values to account for the common shock."
   ]
  },
  {
   "cell_type": "code",
   "execution_count": 111,
   "metadata": {},
   "outputs": [
    {
     "name": "stdout",
     "output_type": "stream",
     "text": [
      "                               RandomEffects Estimation Summary                               \n",
      "==============================================================================================\n",
      "Dep. Variable:     consumption_per_adult_equivalent   R-squared:                        0.9756\n",
      "Estimator:                            RandomEffects   R-squared (Between):              0.7811\n",
      "No. Observations:                               110   R-squared (Within):               0.9807\n",
      "Date:                              Fri, Apr 24 2020   R-squared (Overall):              0.9756\n",
      "Time:                                      22:15:52   Log-likelihood                    126.06\n",
      "Cov. Estimator:                          Unadjusted                                           \n",
      "                                                      F-statistic:                      232.32\n",
      "Entities:                                        11   P-value                           0.0000\n",
      "Avg Obs:                                    10.0000   Distribution:                   F(16,93)\n",
      "Min Obs:                                    10.0000                                           \n",
      "Max Obs:                                    10.0000   F-statistic (robust):             232.32\n",
      "                                                      P-value                           0.0000\n",
      "Time periods:                                    10   Distribution:                   F(16,93)\n",
      "Avg Obs:                                     11.000                                           \n",
      "Min Obs:                                     11.000                                           \n",
      "Max Obs:                                     11.000                                           \n",
      "                                                                                              \n",
      "                                     Parameter Estimates                                      \n",
      "==============================================================================================\n",
      "                            Parameter  Std. Err.     T-stat    P-value    Lower CI    Upper CI\n",
      "----------------------------------------------------------------------------------------------\n",
      "const                          10.058     0.2232     45.051     0.0000      9.6143      10.501\n",
      "radianceoverpixels             0.0133     0.0031     4.2305     0.0001      0.0071      0.0196\n",
      "summedradiance             -1.208e-05   4.28e-06    -2.8221     0.0058  -2.058e-05  -3.579e-06\n",
      "population                 -2.951e-07  1.705e-07    -1.7311     0.0867  -6.337e-07   4.341e-08\n",
      "radpop_scaled                  0.0017     0.0012     1.3441     0.1822     -0.0008      0.0041\n",
      "headyears_educated             0.0311     0.0240     1.2956     0.1983     -0.0166      0.0787\n",
      "hospital_visits_per_Capita    -0.0132     0.0146    -0.9027     0.3690     -0.0422      0.0158\n",
      "illegal_acts                  -14.925     13.544    -1.1019     0.2733     -41.821      11.971\n",
      "year.2005                      0.0686     0.0363     1.8879     0.0622     -0.0036      0.1408\n",
      "year.2006                      1.1075     0.0370     29.934     0.0000      1.0341      1.1810\n",
      "year.2007                      1.3753     0.0382     35.986     0.0000      1.2995      1.4512\n",
      "year.2008                      1.5455     0.0798     19.372     0.0000      1.3871      1.7039\n",
      "year.2009                      0.5171     0.0845     6.1207     0.0000      0.3493      0.6849\n",
      "year.2010                      0.5490     0.0902     6.0839     0.0000      0.3698      0.7282\n",
      "year.2011                      0.6362     0.0900     7.0667     0.0000      0.4574      0.8149\n",
      "year.2012                      0.7989     0.0957     8.3499     0.0000      0.6089      0.9889\n",
      "year.2013                      0.8744     0.0937     9.3331     0.0000      0.6884      1.0605\n",
      "==============================================================================================\n"
     ]
    }
   ],
   "source": [
    "from linearmodels.panel import RandomEffects\n",
    "mod = RandomEffects(np.log(data.consumption_per_adult_equivalent), exog)\n",
    "re_res = mod.fit()\n",
    "print(re_res)"
   ]
  },
  {
   "cell_type": "code",
   "execution_count": 112,
   "metadata": {},
   "outputs": [],
   "source": [
    "#The model fit is fairly similar, although the return to experience has changed substantially, \n",
    "#as has its significance. This is partially explainable by the inclusion of the year dummies \n",
    "#which will fit the trend in experience and so only the cross-sectional differences matter. \n",
    "#The quasi-differencing in the random effects estimator depends on a quantity that depends \n",
    "#on the relative variance of the idiosyncratic shock and the common shock. \n",
    "#This can be accessed using"
   ]
  },
  {
   "cell_type": "code",
   "execution_count": 113,
   "metadata": {},
   "outputs": [
    {
     "data": {
      "text/plain": [
       "Effects                   0.000000\n",
       "Residual                  0.005603\n",
       "Percent due to Effects    0.000000\n",
       "Name: Variance Decomposition, dtype: float64"
      ]
     },
     "execution_count": 113,
     "metadata": {},
     "output_type": "execute_result"
    }
   ],
   "source": [
    "re_res.variance_decomposition"
   ]
  },
  {
   "cell_type": "code",
   "execution_count": 114,
   "metadata": {},
   "outputs": [
    {
     "data": {
      "text/html": [
       "<div>\n",
       "<style scoped>\n",
       "    .dataframe tbody tr th:only-of-type {\n",
       "        vertical-align: middle;\n",
       "    }\n",
       "\n",
       "    .dataframe tbody tr th {\n",
       "        vertical-align: top;\n",
       "    }\n",
       "\n",
       "    .dataframe thead th {\n",
       "        text-align: right;\n",
       "    }\n",
       "</style>\n",
       "<table border=\"1\" class=\"dataframe\">\n",
       "  <thead>\n",
       "    <tr style=\"text-align: right;\">\n",
       "      <th></th>\n",
       "      <th>theta</th>\n",
       "    </tr>\n",
       "    <tr>\n",
       "      <th>marz</th>\n",
       "      <th></th>\n",
       "    </tr>\n",
       "  </thead>\n",
       "  <tbody>\n",
       "    <tr>\n",
       "      <td>1</td>\n",
       "      <td>0.0</td>\n",
       "    </tr>\n",
       "    <tr>\n",
       "      <td>2</td>\n",
       "      <td>0.0</td>\n",
       "    </tr>\n",
       "    <tr>\n",
       "      <td>3</td>\n",
       "      <td>0.0</td>\n",
       "    </tr>\n",
       "    <tr>\n",
       "      <td>4</td>\n",
       "      <td>0.0</td>\n",
       "    </tr>\n",
       "    <tr>\n",
       "      <td>5</td>\n",
       "      <td>0.0</td>\n",
       "    </tr>\n",
       "  </tbody>\n",
       "</table>\n",
       "</div>"
      ],
      "text/plain": [
       "      theta\n",
       "marz       \n",
       "1       0.0\n",
       "2       0.0\n",
       "3       0.0\n",
       "4       0.0\n",
       "5       0.0"
      ]
     },
     "execution_count": 114,
     "metadata": {},
     "output_type": "execute_result"
    }
   ],
   "source": [
    "re_res.theta.head()"
   ]
  },
  {
   "cell_type": "code",
   "execution_count": 115,
   "metadata": {},
   "outputs": [],
   "source": [
    "#The coefficient θi determines how much demeaning takes place. \n",
    "#When this value is 1, the RE model reduces to the pooled model\n",
    "#since this occurs when there is no variance in the effects"
   ]
  },
  {
   "cell_type": "markdown",
   "metadata": {},
   "source": [
    "## Between Model\n"
   ]
  },
  {
   "cell_type": "code",
   "execution_count": 116,
   "metadata": {},
   "outputs": [],
   "source": [
    "#The between estimator is an alternative, usually less efficient estimator, \n",
    "#can can be used to estimate model parameters. It is particular simple since \n",
    "#it first computes the time averages of y and x and then runs a simple regression \n",
    "#using these averages. The year dummies are dropped since the averaging \n",
    "#removes differences due to the year."
   ]
  },
  {
   "cell_type": "code",
   "execution_count": 117,
   "metadata": {},
   "outputs": [
    {
     "name": "stdout",
     "output_type": "stream",
     "text": [
      "                                BetweenOLS Estimation Summary                                 \n",
      "==============================================================================================\n",
      "Dep. Variable:     consumption_per_adult_equivalent   R-squared:                        0.8153\n",
      "Estimator:                               BetweenOLS   R-squared (Between):              0.8153\n",
      "No. Observations:                                11   R-squared (Within):               0.0209\n",
      "Date:                              Fri, Apr 24 2020   R-squared (Overall):              0.0412\n",
      "Time:                                      22:15:54   Log-likelihood                    21.652\n",
      "Cov. Estimator:                          Unadjusted                                           \n",
      "                                                      F-statistic:                      1.8919\n",
      "Entities:                                        11   P-value                           0.3233\n",
      "Avg Obs:                                    10.0000   Distribution:                     F(7,3)\n",
      "Min Obs:                                    10.0000                                           \n",
      "Max Obs:                                    10.0000   F-statistic (robust):             1.8919\n",
      "                                                      P-value                           0.3233\n",
      "Time periods:                                    10   Distribution:                     F(7,3)\n",
      "Avg Obs:                                     11.000                                           \n",
      "Min Obs:                                     11.000                                           \n",
      "Max Obs:                                     11.000                                           \n",
      "                                                                                              \n",
      "                                     Parameter Estimates                                      \n",
      "==============================================================================================\n",
      "                            Parameter  Std. Err.     T-stat    P-value    Lower CI    Upper CI\n",
      "----------------------------------------------------------------------------------------------\n",
      "const                          11.149     0.6041     18.457     0.0003      9.2269      13.072\n",
      "radianceoverpixels             0.0199     0.0134     1.4903     0.2329     -0.0226      0.0624\n",
      "summedradiance             -4.263e-06  2.744e-05    -0.1554     0.8864  -9.157e-05   8.305e-05\n",
      "population                 -7.423e-07  1.117e-06    -0.6645     0.5539  -4.297e-06   2.813e-06\n",
      "radpop_scaled                 -0.0005     0.0080    -0.0607     0.9554     -0.0260      0.0251\n",
      "headyears_educated            -0.0065     0.0907    -0.0720     0.9472     -0.2950      0.2820\n",
      "hospital_visits_per_Capita     0.0014     0.0403     0.0356     0.9738     -0.1270      0.1298\n",
      "illegal_acts                  -8.7715     46.304    -0.1894     0.8618     -156.13      138.59\n",
      "==============================================================================================\n"
     ]
    }
   ],
   "source": [
    "from linearmodels.panel import BetweenOLS\n",
    "exog_vars = ['radianceoverpixels', 'summedradiance', 'population', 'radpop_scaled', 'headyears_educated', 'hospital_visits_per_Capita', 'illegal_acts']\n",
    "exog = sm.add_constant(data[exog_vars])\n",
    "mod = BetweenOLS(np.log(data.consumption_per_adult_equivalent), exog)\n",
    "be_res = mod.fit()\n",
    "print(be_res)"
   ]
  },
  {
   "cell_type": "markdown",
   "metadata": {},
   "source": [
    "## Including Fixed Effects"
   ]
  },
  {
   "cell_type": "code",
   "execution_count": 118,
   "metadata": {},
   "outputs": [],
   "source": [
    "#When effects are correlated with the regressors the RE and BE estimators are not consistent. \n",
    "#The usual solution is to use Fixed Effects which are available in PanelOLS. \n",
    "#Fixed effects are called entity_effects when applied to entities and time_effects \n",
    "#when applied to the time dimension:\n"
   ]
  },
  {
   "cell_type": "markdown",
   "metadata": {},
   "source": [
    "#### Including fixed effects\n"
   ]
  },
  {
   "cell_type": "code",
   "execution_count": 119,
   "metadata": {},
   "outputs": [
    {
     "name": "stdout",
     "output_type": "stream",
     "text": [
      "                                 PanelOLS Estimation Summary                                  \n",
      "==============================================================================================\n",
      "Dep. Variable:     consumption_per_adult_equivalent   R-squared:                        0.4846\n",
      "Estimator:                                 PanelOLS   R-squared (Between):              0.7811\n",
      "No. Observations:                               110   R-squared (Within):               0.0054\n",
      "Date:                              Fri, Apr 24 2020   R-squared (Overall):              0.0252\n",
      "Time:                                      22:15:55   Log-likelihood                    126.06\n",
      "Cov. Estimator:                          Unadjusted                                           \n",
      "                                                      F-statistic:                      12.490\n",
      "Entities:                                        11   P-value                           0.0000\n",
      "Avg Obs:                                    10.0000   Distribution:                    F(7,93)\n",
      "Min Obs:                                    10.0000                                           \n",
      "Max Obs:                                    10.0000   F-statistic (robust):             12.490\n",
      "                                                      P-value                           0.0000\n",
      "Time periods:                                    10   Distribution:                    F(7,93)\n",
      "Avg Obs:                                     11.000                                           \n",
      "Min Obs:                                     11.000                                           \n",
      "Max Obs:                                     11.000                                           \n",
      "                                                                                              \n",
      "                                     Parameter Estimates                                      \n",
      "==============================================================================================\n",
      "                            Parameter  Std. Err.     T-stat    P-value    Lower CI    Upper CI\n",
      "----------------------------------------------------------------------------------------------\n",
      "const                          10.805     0.1836     58.863     0.0000      10.440      11.169\n",
      "radianceoverpixels             0.0133     0.0031     4.2305     0.0001      0.0071      0.0196\n",
      "summedradiance             -1.208e-05   4.28e-06    -2.8221     0.0058  -2.058e-05  -3.579e-06\n",
      "population                 -2.951e-07  1.705e-07    -1.7311     0.0867  -6.337e-07   4.341e-08\n",
      "radpop_scaled                  0.0017     0.0012     1.3441     0.1822     -0.0008      0.0041\n",
      "headyears_educated             0.0311     0.0240     1.2956     0.1983     -0.0166      0.0787\n",
      "hospital_visits_per_Capita    -0.0132     0.0146    -0.9027     0.3690     -0.0422      0.0158\n",
      "illegal_acts                  -14.925     13.544    -1.1019     0.2733     -41.821      11.971\n",
      "==============================================================================================\n",
      "\n",
      "F-test for Poolability: 301.03\n",
      "P-value: 0.0000\n",
      "Distribution: F(9,93)\n",
      "\n",
      "Included effects: Time\n"
     ]
    }
   ],
   "source": [
    "from linearmodels.panel import PanelOLS\n",
    "exog_vars = ['radianceoverpixels', 'summedradiance', 'population', 'radpop_scaled', 'headyears_educated', 'hospital_visits_per_Capita', 'illegal_acts']\n",
    "exog = sm.add_constant(data[exog_vars])\n",
    "mod = PanelOLS(np.log(data.consumption_per_adult_equivalent), exog, entity_effects=False, time_effects=True)\n",
    "fe_res = mod.fit()\n",
    "\n",
    "print(fe_res)"
   ]
  },
  {
   "cell_type": "code",
   "execution_count": 120,
   "metadata": {},
   "outputs": [
    {
     "name": "stdout",
     "output_type": "stream",
     "text": [
      "                                 PanelOLS Estimation Summary                                  \n",
      "==============================================================================================\n",
      "Dep. Variable:     consumption_per_adult_equivalent   R-squared:                        0.4828\n",
      "Estimator:                                 PanelOLS   R-squared (Between):             -641.56\n",
      "No. Observations:                               110   R-squared (Within):               0.4828\n",
      "Date:                              Fri, Apr 24 2020   R-squared (Overall):             -15.900\n",
      "Time:                                      22:15:55   Log-likelihood                   -40.456\n",
      "Cov. Estimator:                          Unadjusted                                           \n",
      "                                                      F-statistic:                      12.269\n",
      "Entities:                                        11   P-value                           0.0000\n",
      "Avg Obs:                                    10.0000   Distribution:                    F(7,92)\n",
      "Min Obs:                                    10.0000                                           \n",
      "Max Obs:                                    10.0000   F-statistic (robust):             12.269\n",
      "                                                      P-value                           0.0000\n",
      "Time periods:                                    10   Distribution:                    F(7,92)\n",
      "Avg Obs:                                     11.000                                           \n",
      "Min Obs:                                     11.000                                           \n",
      "Max Obs:                                     11.000                                           \n",
      "                                                                                              \n",
      "                                     Parameter Estimates                                      \n",
      "==============================================================================================\n",
      "                            Parameter  Std. Err.     T-stat    P-value    Lower CI    Upper CI\n",
      "----------------------------------------------------------------------------------------------\n",
      "const                          13.585     2.5415     5.3453     0.0000      8.5373      18.632\n",
      "radianceoverpixels             0.1192     0.0322     3.7002     0.0004      0.0552      0.1831\n",
      "summedradiance             -5.104e-05  3.402e-05    -1.5003     0.1370     -0.0001   1.653e-05\n",
      "population                 -1.116e-05  8.683e-06    -1.2853     0.2019  -2.841e-05   6.085e-06\n",
      "radpop_scaled                  0.0121     0.0068     1.7696     0.0801     -0.0015      0.0257\n",
      "headyears_educated            -0.0149     0.0476    -0.3130     0.7550     -0.1094      0.0796\n",
      "hospital_visits_per_Capita     0.4456     0.1455     3.0635     0.0029      0.1567      0.7345\n",
      "illegal_acts                  -474.64     55.149    -8.6065     0.0000     -584.18     -365.11\n",
      "==============================================================================================\n",
      "\n",
      "F-test for Poolability: 4.2256\n",
      "P-value: 0.0001\n",
      "Distribution: F(10,92)\n",
      "\n",
      "Included effects: Entity\n"
     ]
    }
   ],
   "source": [
    "from linearmodels.panel import PanelOLS\n",
    "exog_vars = ['radianceoverpixels', 'summedradiance', 'population', 'radpop_scaled', 'headyears_educated', 'hospital_visits_per_Capita', 'illegal_acts']\n",
    "exog = sm.add_constant(data[exog_vars])\n",
    "mod = PanelOLS(np.log(data.consumption_per_adult_equivalent), exog, entity_effects=True)\n",
    "fe_res = mod.fit()\n",
    "\n",
    "print(fe_res)\n",
    "\n"
   ]
  },
  {
   "cell_type": "markdown",
   "metadata": {},
   "source": [
    "#### Time Effects"
   ]
  },
  {
   "cell_type": "code",
   "execution_count": 121,
   "metadata": {},
   "outputs": [
    {
     "name": "stdout",
     "output_type": "stream",
     "text": [
      "                                 PanelOLS Estimation Summary                                  \n",
      "==============================================================================================\n",
      "Dep. Variable:     consumption_per_adult_equivalent   R-squared:                        0.2014\n",
      "Estimator:                                 PanelOLS   R-squared (Between):             -8.7242\n",
      "No. Observations:                               110   R-squared (Within):              -0.1534\n",
      "Date:                              Fri, Apr 24 2020   R-squared (Overall):             -0.3721\n",
      "Time:                                      22:15:56   Log-likelihood                    144.55\n",
      "Cov. Estimator:                          Unadjusted                                           \n",
      "                                                      F-statistic:                      2.9899\n",
      "Entities:                                        11   P-value                           0.0076\n",
      "Avg Obs:                                    10.0000   Distribution:                    F(7,83)\n",
      "Min Obs:                                    10.0000                                           \n",
      "Max Obs:                                    10.0000   F-statistic (robust):             2.9899\n",
      "                                                      P-value                           0.0076\n",
      "Time periods:                                    10   Distribution:                    F(7,83)\n",
      "Avg Obs:                                     11.000                                           \n",
      "Min Obs:                                     11.000                                           \n",
      "Max Obs:                                     11.000                                           \n",
      "                                                                                              \n",
      "                                     Parameter Estimates                                      \n",
      "==============================================================================================\n",
      "                            Parameter  Std. Err.     T-stat    P-value    Lower CI    Upper CI\n",
      "----------------------------------------------------------------------------------------------\n",
      "const                          10.596     0.5578     18.995     0.0000      9.4865      11.706\n",
      "radianceoverpixels             0.0042     0.0087     0.4844     0.6293     -0.0130      0.0214\n",
      "summedradiance             -1.204e-05  7.541e-06    -1.5969     0.1141  -2.704e-05   2.957e-06\n",
      "population                 -8.437e-07  1.806e-06    -0.4673     0.6415  -4.435e-06   2.748e-06\n",
      "radpop_scaled                  0.0014     0.0019     0.7497     0.4555     -0.0024      0.0052\n",
      "headyears_educated             0.0970     0.0335     2.8987     0.0048      0.0304      0.1635\n",
      "hospital_visits_per_Capita    -0.0714     0.0364    -1.9594     0.0534     -0.1439      0.0011\n",
      "illegal_acts                  -2.5368     21.132    -0.1200     0.9047     -44.567      39.493\n",
      "==============================================================================================\n",
      "\n",
      "F-test for Poolability: 179.86\n",
      "P-value: 0.0000\n",
      "Distribution: F(19,83)\n",
      "\n",
      "Included effects: Entity, Time\n"
     ]
    }
   ],
   "source": [
    "from linearmodels.panel import PanelOLS\n",
    "exog_vars = ['radianceoverpixels', 'summedradiance', 'population', 'radpop_scaled', 'headyears_educated', 'hospital_visits_per_Capita', 'illegal_acts']\n",
    "exog = sm.add_constant(data[exog_vars])\n",
    "mod = PanelOLS(np.log(data.consumption_per_adult_equivalent), exog, entity_effects=True, time_effects=True)\n",
    "fe_te_res = mod.fit()\n",
    "print(fe_te_res)"
   ]
  },
  {
   "cell_type": "code",
   "execution_count": null,
   "metadata": {},
   "outputs": [],
   "source": []
  },
  {
   "cell_type": "markdown",
   "metadata": {},
   "source": [
    "#### Using first differences"
   ]
  },
  {
   "cell_type": "code",
   "execution_count": 122,
   "metadata": {},
   "outputs": [
    {
     "name": "stdout",
     "output_type": "stream",
     "text": [
      "                            FirstDifferenceOLS Estimation Summary                             \n",
      "==============================================================================================\n",
      "Dep. Variable:     consumption_per_adult_equivalent   R-squared:                        0.4569\n",
      "Estimator:                       FirstDifferenceOLS   R-squared (Between):             -0.9215\n",
      "No. Observations:                                99   R-squared (Within):               0.4188\n",
      "Date:                              Fri, Apr 24 2020   R-squared (Overall):             -0.9188\n",
      "Time:                                      22:15:58   Log-likelihood                   -44.753\n",
      "Cov. Estimator:                          Unadjusted                                           \n",
      "                                                      F-statistic:                      11.055\n",
      "Entities:                                        11   P-value                           0.0000\n",
      "Avg Obs:                                    10.0000   Distribution:                    F(7,92)\n",
      "Min Obs:                                    10.0000                                           \n",
      "Max Obs:                                    10.0000   F-statistic (robust):             11.055\n",
      "                                                      P-value                           0.0000\n",
      "Time periods:                                    10   Distribution:                    F(7,92)\n",
      "Avg Obs:                                     11.000                                           \n",
      "Min Obs:                                     11.000                                           \n",
      "Max Obs:                                     11.000                                           \n",
      "                                                                                              \n",
      "                                     Parameter Estimates                                      \n",
      "==============================================================================================\n",
      "                            Parameter  Std. Err.     T-stat    P-value    Lower CI    Upper CI\n",
      "----------------------------------------------------------------------------------------------\n",
      "radianceoverpixels             0.0573     0.0565     1.0147     0.3129     -0.0549      0.1694\n",
      "summedradiance             -3.787e-05  4.982e-05    -0.7601     0.4492     -0.0001   6.108e-05\n",
      "population                 -1.868e-05  2.303e-05    -0.8111     0.4194  -6.442e-05   2.706e-05\n",
      "radpop_scaled                  0.0079     0.0082     0.9542     0.3425     -0.0085      0.0242\n",
      "headyears_educated             0.0436     0.0435     1.0017     0.3191     -0.0429      0.1301\n",
      "hospital_visits_per_Capita     0.7481     0.2044     3.6604     0.0004      0.3422      1.1540\n",
      "illegal_acts                  -424.78     61.573    -6.8988     0.0000     -547.07     -302.49\n",
      "==============================================================================================\n"
     ]
    }
   ],
   "source": [
    "from linearmodels.panel import FirstDifferenceOLS\n",
    "exog_vars = ['radianceoverpixels', 'summedradiance', 'population', 'radpop_scaled', 'headyears_educated', 'hospital_visits_per_Capita', 'illegal_acts']\n",
    "exog = sm.add_constant(data[exog_vars])\n",
    "exog = data[exog_vars]\n",
    "mod = FirstDifferenceOLS(np.log(data.consumption_per_adult_equivalent), exog)\n",
    "fd_res = mod.fit()\n",
    "print(fd_res)"
   ]
  },
  {
   "cell_type": "code",
   "execution_count": 123,
   "metadata": {},
   "outputs": [],
   "source": [
    "#First differencing is an alternative to using fixed effects when there might be correlation. \n",
    "#When using first differences, time-invariant variables must be excluded. \n",
    "#Additionally, only one linear time-trending variable can be included since this \n",
    "#will look like a constant. This variable will soak up all time-trends in the data,\n",
    "#and so interpretations of these variable can be challenging."
   ]
  },
  {
   "cell_type": "markdown",
   "metadata": {},
   "source": [
    "## Comparing models"
   ]
  },
  {
   "cell_type": "code",
   "execution_count": 124,
   "metadata": {},
   "outputs": [
    {
     "name": "stdout",
     "output_type": "stream",
     "text": [
      "                                                           Model Comparison                                                          \n",
      "=====================================================================================================================================\n",
      "                                                             BE                                 RE                             Pooled\n",
      "-------------------------------------------------------------------------------------------------------------------------------------\n",
      "Dep. Variable                  consumption_per_adult_equivalent   consumption_per_adult_equivalent   consumption_per_adult_equivalent\n",
      "Estimator                                            BetweenOLS                      RandomEffects                          PooledOLS\n",
      "No. Observations                                             11                                110                                110\n",
      "Cov. Est.                                            Unadjusted                         Unadjusted                         Unadjusted\n",
      "R-squared                                                0.8153                             0.9756                             0.9756\n",
      "R-Squared (Within)                                       0.0209                             0.9807                             0.9807\n",
      "R-Squared (Between)                                      0.8153                             0.7811                             0.7811\n",
      "R-Squared (Overall)                                      0.0412                             0.9756                             0.9756\n",
      "F-statistic                                              1.8919                             232.32                             232.32\n",
      "P-value (F-stat)                                         0.3233                             0.0000                             0.0000\n",
      "============================ ================================== ================================== ==================================\n",
      "const                                                    11.149                             10.058                             10.058\n",
      "                                                       (18.457)                           (45.051)                           (45.051)\n",
      "radianceoverpixels                                       0.0199                             0.0133                             0.0133\n",
      "                                                       (1.4903)                           (4.2305)                           (4.2305)\n",
      "summedradiance                                       -4.263e-06                         -1.208e-05                         -1.208e-05\n",
      "                                                      (-0.1554)                          (-2.8221)                          (-2.8221)\n",
      "population                                           -7.423e-07                         -2.951e-07                         -2.951e-07\n",
      "                                                      (-0.6645)                          (-1.7311)                          (-1.7311)\n",
      "radpop_scaled                                           -0.0005                             0.0017                             0.0017\n",
      "                                                      (-0.0607)                           (1.3441)                           (1.3441)\n",
      "headyears_educated                                      -0.0065                             0.0311                             0.0311\n",
      "                                                      (-0.0720)                           (1.2956)                           (1.2956)\n",
      "hospital_visits_per_Capita                               0.0014                            -0.0132                            -0.0132\n",
      "                                                       (0.0356)                          (-0.9027)                          (-0.9027)\n",
      "illegal_acts                                            -8.7715                            -14.925                            -14.925\n",
      "                                                      (-0.1894)                          (-1.1019)                          (-1.1019)\n",
      "year.2005                                                                                   0.0686                             0.0686\n",
      "                                                                                          (1.8879)                           (1.8879)\n",
      "year.2006                                                                                   1.1075                             1.1075\n",
      "                                                                                          (29.934)                           (29.934)\n",
      "year.2007                                                                                   1.3753                             1.3753\n",
      "                                                                                          (35.986)                           (35.986)\n",
      "year.2008                                                                                   1.5455                             1.5455\n",
      "                                                                                          (19.372)                           (19.372)\n",
      "year.2009                                                                                   0.5171                             0.5171\n",
      "                                                                                          (6.1207)                           (6.1207)\n",
      "year.2010                                                                                   0.5490                             0.5490\n",
      "                                                                                          (6.0839)                           (6.0839)\n",
      "year.2011                                                                                   0.6362                             0.6362\n",
      "                                                                                          (7.0667)                           (7.0667)\n",
      "year.2012                                                                                   0.7989                             0.7989\n",
      "                                                                                          (8.3499)                           (8.3499)\n",
      "year.2013                                                                                   0.8744                             0.8744\n",
      "                                                                                          (9.3331)                           (9.3331)\n",
      "-------------------------------------------------------------------------------------------------------------------------------------\n",
      "\n",
      "T-stats reported in parentheses\n"
     ]
    }
   ],
   "source": [
    "from linearmodels.panel import compare\n",
    "print(compare({'BE':be_res,'RE':re_res,'Pooled':pooled_res, }))\n",
    "\n"
   ]
  },
  {
   "cell_type": "code",
   "execution_count": 125,
   "metadata": {},
   "outputs": [
    {
     "name": "stdout",
     "output_type": "stream",
     "text": [
      "                                                               Model Comparison                                                              \n",
      "=============================================================================================================================================\n",
      "                                                                 BE                                   RE                                   FE\n",
      "---------------------------------------------------------------------------------------------------------------------------------------------\n",
      "Dep. Variable                      consumption_per_adult_equivalent     consumption_per_adult_equivalent     consumption_per_adult_equivalent\n",
      "Estimator                                                BetweenOLS                        RandomEffects                             PanelOLS\n",
      "No. Observations                                                 11                                  110                                  110\n",
      "Cov. Est.                                                Unadjusted                           Unadjusted                           Unadjusted\n",
      "R-squared                                                    0.8153                               0.9756                               0.4828\n",
      "R-Squared (Within)                                           0.0209                               0.9807                               0.4828\n",
      "R-Squared (Between)                                          0.8153                               0.7811                              -641.56\n",
      "R-Squared (Overall)                                          0.0412                               0.9756                              -15.900\n",
      "F-statistic                                                  1.8919                               232.32                               12.269\n",
      "P-value (F-stat)                                             0.3233                               0.0000                               0.0000\n",
      "============================     ==================================   ==================================   ==================================\n",
      "const                                                        11.149                               10.058                               13.585\n",
      "                                                           (18.457)                             (45.051)                             (5.3453)\n",
      "radianceoverpixels                                           0.0199                               0.0133                               0.1192\n",
      "                                                           (1.4903)                             (4.2305)                             (3.7002)\n",
      "summedradiance                                           -4.263e-06                           -1.208e-05                           -5.104e-05\n",
      "                                                          (-0.1554)                            (-2.8221)                            (-1.5003)\n",
      "population                                               -7.423e-07                           -2.951e-07                           -1.116e-05\n",
      "                                                          (-0.6645)                            (-1.7311)                            (-1.2853)\n",
      "radpop_scaled                                               -0.0005                               0.0017                               0.0121\n",
      "                                                          (-0.0607)                             (1.3441)                             (1.7696)\n",
      "headyears_educated                                          -0.0065                               0.0311                              -0.0149\n",
      "                                                          (-0.0720)                             (1.2956)                            (-0.3130)\n",
      "hospital_visits_per_Capita                                   0.0014                              -0.0132                               0.4456\n",
      "                                                           (0.0356)                            (-0.9027)                             (3.0635)\n",
      "illegal_acts                                                -8.7715                              -14.925                              -474.64\n",
      "                                                          (-0.1894)                            (-1.1019)                            (-8.6065)\n",
      "year.2005                                                                                         0.0686                                     \n",
      "                                                                                                (1.8879)                                     \n",
      "year.2006                                                                                         1.1075                                     \n",
      "                                                                                                (29.934)                                     \n",
      "year.2007                                                                                         1.3753                                     \n",
      "                                                                                                (35.986)                                     \n",
      "year.2008                                                                                         1.5455                                     \n",
      "                                                                                                (19.372)                                     \n",
      "year.2009                                                                                         0.5171                                     \n",
      "                                                                                                (6.1207)                                     \n",
      "year.2010                                                                                         0.5490                                     \n",
      "                                                                                                (6.0839)                                     \n",
      "year.2011                                                                                         0.6362                                     \n",
      "                                                                                                (7.0667)                                     \n",
      "year.2012                                                                                         0.7989                                     \n",
      "                                                                                                (8.3499)                                     \n",
      "year.2013                                                                                         0.8744                                     \n",
      "                                                                                                (9.3331)                                     \n",
      "============================== ==================================== ==================================== ====================================\n",
      "Effects                                                                                                                                Entity\n",
      "---------------------------------------------------------------------------------------------------------------------------------------------\n",
      "\n",
      "T-stats reported in parentheses\n"
     ]
    }
   ],
   "source": [
    "print(compare({'BE':be_res,'RE':re_res,'FE':fe_res, }))"
   ]
  },
  {
   "cell_type": "code",
   "execution_count": 126,
   "metadata": {},
   "outputs": [],
   "source": [
    "def hausman(fe, re):\n",
    "    b = fe.params\n",
    "    B = re.params\n",
    "    v_b = fe.cov_params()\n",
    "    v_B = re.cov_params()\n",
    "    df = b[np.abs(b) < 1e8].size\n",
    "    chi2 = np.dot((b - B).T, la.inv(v_b - v_B).dot(b - B))\n",
    "    pval = stats.chi2.sf(chi2, df)\n",
    "    return chi2, df, pval"
   ]
  },
  {
   "cell_type": "code",
   "execution_count": 127,
   "metadata": {},
   "outputs": [
    {
     "ename": "AttributeError",
     "evalue": "'PanelEffectsResults' object has no attribute 'cov_params'",
     "output_type": "error",
     "traceback": [
      "\u001b[0;31m---------------------------------------------------------------------------\u001b[0m",
      "\u001b[0;31mAttributeError\u001b[0m                            Traceback (most recent call last)",
      "\u001b[0;32m<ipython-input-127-35904ce9f153>\u001b[0m in \u001b[0;36m<module>\u001b[0;34m\u001b[0m\n\u001b[0;32m----> 1\u001b[0;31m \u001b[0mhausman\u001b[0m\u001b[0;34m(\u001b[0m\u001b[0mfe_res\u001b[0m\u001b[0;34m,\u001b[0m \u001b[0mre_res\u001b[0m\u001b[0;34m)\u001b[0m\u001b[0;34m\u001b[0m\u001b[0;34m\u001b[0m\u001b[0m\n\u001b[0m",
      "\u001b[0;32m<ipython-input-126-b7da22d8be95>\u001b[0m in \u001b[0;36mhausman\u001b[0;34m(fe, re)\u001b[0m\n\u001b[1;32m      2\u001b[0m     \u001b[0mb\u001b[0m \u001b[0;34m=\u001b[0m \u001b[0mfe\u001b[0m\u001b[0;34m.\u001b[0m\u001b[0mparams\u001b[0m\u001b[0;34m\u001b[0m\u001b[0;34m\u001b[0m\u001b[0m\n\u001b[1;32m      3\u001b[0m     \u001b[0mB\u001b[0m \u001b[0;34m=\u001b[0m \u001b[0mre\u001b[0m\u001b[0;34m.\u001b[0m\u001b[0mparams\u001b[0m\u001b[0;34m\u001b[0m\u001b[0;34m\u001b[0m\u001b[0m\n\u001b[0;32m----> 4\u001b[0;31m     \u001b[0mv_b\u001b[0m \u001b[0;34m=\u001b[0m \u001b[0mfe\u001b[0m\u001b[0;34m.\u001b[0m\u001b[0mcov_params\u001b[0m\u001b[0;34m(\u001b[0m\u001b[0;34m)\u001b[0m\u001b[0;34m\u001b[0m\u001b[0;34m\u001b[0m\u001b[0m\n\u001b[0m\u001b[1;32m      5\u001b[0m     \u001b[0mv_B\u001b[0m \u001b[0;34m=\u001b[0m \u001b[0mre\u001b[0m\u001b[0;34m.\u001b[0m\u001b[0mcov_params\u001b[0m\u001b[0;34m(\u001b[0m\u001b[0;34m)\u001b[0m\u001b[0;34m\u001b[0m\u001b[0;34m\u001b[0m\u001b[0m\n\u001b[1;32m      6\u001b[0m     \u001b[0mdf\u001b[0m \u001b[0;34m=\u001b[0m \u001b[0mb\u001b[0m\u001b[0;34m[\u001b[0m\u001b[0mnp\u001b[0m\u001b[0;34m.\u001b[0m\u001b[0mabs\u001b[0m\u001b[0;34m(\u001b[0m\u001b[0mb\u001b[0m\u001b[0;34m)\u001b[0m \u001b[0;34m<\u001b[0m \u001b[0;36m1e8\u001b[0m\u001b[0;34m]\u001b[0m\u001b[0;34m.\u001b[0m\u001b[0msize\u001b[0m\u001b[0;34m\u001b[0m\u001b[0;34m\u001b[0m\u001b[0m\n",
      "\u001b[0;31mAttributeError\u001b[0m: 'PanelEffectsResults' object has no attribute 'cov_params'"
     ]
    }
   ],
   "source": [
    "hausman(fe_res, re_res)"
   ]
  },
  {
   "cell_type": "code",
   "execution_count": 128,
   "metadata": {},
   "outputs": [],
   "source": [
    "#Hausman Test\n",
    "\n",
    "#data:  log(average_expenditure) ~ log(radianceoverpixels) + log(headyears_educated) +  ...\n",
    "#chisq = 1.2205, df = 3, p-value = 0.7481\n",
    "#alternative hypothesis: one model is inconsistent\n",
    "\n",
    "#As the p value is significant (0.01<0.05), fixed effects model should be used.\n"
   ]
  },
  {
   "cell_type": "code",
   "execution_count": null,
   "metadata": {},
   "outputs": [],
   "source": []
  }
 ],
 "metadata": {
  "kernelspec": {
   "display_name": "Python 3",
   "language": "python",
   "name": "python3"
  },
  "language_info": {
   "codemirror_mode": {
    "name": "ipython",
    "version": 3
   },
   "file_extension": ".py",
   "mimetype": "text/x-python",
   "name": "python",
   "nbconvert_exporter": "python",
   "pygments_lexer": "ipython3",
   "version": "3.7.4"
  }
 },
 "nbformat": 4,
 "nbformat_minor": 2
}
